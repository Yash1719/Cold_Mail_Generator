{
 "cells": [
  {
   "cell_type": "code",
   "execution_count": 1,
   "id": "33f3deab-a65a-4abf-ae58-8147af9bfdad",
   "metadata": {},
   "outputs": [],
   "source": [
    "from langchain_groq import ChatGroq"
   ]
  },
  {
   "cell_type": "code",
   "execution_count": 2,
   "id": "72f58dc4-1bbb-4ece-808d-a10ebbe652dd",
   "metadata": {},
   "outputs": [
    {
     "name": "stdout",
     "output_type": "stream",
     "text": [
      "As of my knowledge up to October 2021, the current Prime Minister of India is Narendra Modi. He has been in office since May 2014. However, I recommend checking the most recent and reliable sources to confirm, as political situations can change rapidly.\n"
     ]
    }
   ],
   "source": [
    "llm=ChatGroq(\n",
    "    temperature=0,\n",
    "    model_name=\"mixtral-8x7b-32768\",\n",
    "    groq_api_key='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'\n",
    ")\n",
    "response=llm.invoke(\"who is the current pm of india\")\n",
    "print(response.content)"
   ]
  },
  {
   "cell_type": "code",
   "execution_count": 3,
   "id": "4a3ac85d-d665-4221-93dd-df4ee17da05d",
   "metadata": {},
   "outputs": [
    {
     "name": "stderr",
     "output_type": "stream",
     "text": [
      "USER_AGENT environment variable not set, consider setting it to identify your requests.\n"
     ]
    },
    {
     "name": "stdout",
     "output_type": "stream",
     "text": [
      "Software Dev Engineer I, Amazon University Talent Acquisition - Job ID: 2816887 | Amazon.jobs\n",
      "Skip to main contentHomeTeamsLocationsJob categoriesYour job applicationResourcesDisability accommodationsBenefitsInclusive experiencesInterview tipsLeadership principlesWorking at AmazonFAQ×Software Dev Engineer I, Amazon University Talent AcquisitionJob ID: 2816887 | ADCI - KarnatakaApply nowDESCRIPTIONAt Amazon, we hire the best minds in technology to innovate and build on behalf of our customers. The focus we have on our customers is why we are one of the world’s most beloved brands – customer obsession is part of our company DNA. Our Software Development Engineers (SDEs) use cutting-edge technology to solve complex problems and get to see the impact of their work first-hand. The challenges SDEs solve for at Amazon are big and influence millions of customers, sellers, and products around the world. We are looking for individuals who are passionate about creating new products, features, and services from scratch while managing ambiguity and the pace of a company where development cycles are measured in weeks, not years. If this sounds interesting to you, apply and come chart your own path at Amazon.Applications are reviewed on a rolling basis. For an update on your status, or to confirm your application was submitted successfully, please login to your candidate portal. NOTE: Amazon works with a high volume of applicants, so we appreciate your patience as we review applicationsKey job responsibilities• Collaborate with experienced cross-disciplinary Amazonians to conceive, design, and bring innovative products and services to market.• Design and build innovative technologies in a large distributed computing environment and help lead fundamental changes in the industry.• Create solutions to run predictions on distributed systems with exposure to innovative technologies at incredible scale and speed.• Build distributed storage, index, and query systems that are scalable, fault-tolerant, low cost, and easy to manage/use.• Design and code the right solutions starting with broadly defined problems.• Work in an agile environment to deliver high-quality software.BASIC QUALIFICATIONS- Bachelor's degree or above in computer science, computer engineering, or related fieldPREFERRED QUALIFICATIONS- Bachelor's degree or equivalentJob detailsIND, HyderabadIND, ChennaiIND, KA, BangaloreIND, DelhiIND, PuneAdministrative Support JOIN US ONFind CareersJob CategoriesTeamsLocationsUS and EU Military recruitingWarehouse and Hourly JobsWorking At AmazonCultureBenefitsAmazon NewsletterDiversity at AmazonOur leadership principlesHelpFAQInterview tipsReview application statusDisability accommodationsEU background checksAmazon is committed to a diverse and inclusive workplace. Amazon is an equal opportunity employer and does not discriminate on the basis of race, national origin, gender, gender identity, sexual orientation, protected veteran status, disability, age, or other legally protected status.Privacy and DataImpressum© 1996-2025, Amazon.com, Inc. or its affiliates\n"
     ]
    }
   ],
   "source": [
    "from langchain_community.document_loaders import WebBaseLoader\n",
    "\n",
    "loader=WebBaseLoader(\"https://amazon.jobs/en/jobs/2816887/software-dev-engineer-i-amazon-university-talent-acquisition\")\n",
    "page_data=loader.load().pop().page_content\n",
    "print(page_data)\n"
   ]
  },
  {
   "cell_type": "code",
   "execution_count": 4,
   "id": "a2bdb7e6-cd4f-40ac-8f27-6fadfc1cbae9",
   "metadata": {},
   "outputs": [
    {
     "name": "stdout",
     "output_type": "stream",
     "text": [
      "{\n",
      "  \"role\": \"Software Dev Engineer I\",\n",
      "  \"experience\": \"Not specified\",\n",
      "  \"skills\": [\n",
      "    \"Collaboration with cross-disciplinary teams\",\n",
      "    \"Designing and building technologies in a large distributed computing environment\",\n",
      "    \"Creating solutions for distributed systems with exposure to innovative technologies at scale and speed\",\n",
      "    \"Building distributed storage, index, and query systems that are scalable, fault-tolerant, low cost, and easy to manage/use\",\n",
      "    \"Designing and coding the right solutions starting with broadly defined problems\",\n",
      "    \"Working in an agile environment to deliver high-quality software\"\n",
      "  ],\n",
      "  \"description\": \"At Amazon, we hire the best minds in technology to innovate and build on behalf of our customers. The focus we have on our customers is why we are one of the world’s most beloved brands – customer obsession is part of our company DNA. Our Software Development Engineers (SDEs) use cutting-edge technology to solve complex problems and get to see the impact of their work first-hand. The challenges SDEs solve for at Amazon are big and influence millions of customers, sellers, and products around the world. We are looking for individuals who are passionate about creating new products, features, and services from scratch while managing ambiguity and the pace of a company where development cycles are measured in weeks, not years. If this sounds interesting to you, apply and come chart your own path at Amazon.\"\n",
      "}\n"
     ]
    }
   ],
   "source": [
    "from langchain_core.prompts import PromptTemplate\n",
    "\n",
    "prompt_extract=PromptTemplate.from_template(\n",
    "    \"\"\"\n",
    "    ### SCRAPED TEXT FROM WEBSITE\n",
    "    {page_data}\n",
    "    ### INSTRUCTION\n",
    "    The scrapped text is from the career's page of a website.\n",
    "    Your job is to extract the job posting and return them in JSON format containing \n",
    "    following keys:'role','experience','skills' and 'description'.\n",
    "    Only return the Valid JSON\n",
    "    ### VALID JSON (NO PREAMBLE)\n",
    "    \"\"\"\n",
    "    \n",
    ")\n",
    "chain_extract=prompt_extract |  llm\n",
    "res=chain_extract.invoke(input={'page_data':page_data})\n",
    "print(res.content)\n"
   ]
  },
  {
   "cell_type": "code",
   "execution_count": 6,
   "id": "7c6a7f60-6ea9-41f0-9102-aae4956afa18",
   "metadata": {},
   "outputs": [
    {
     "data": {
      "text/plain": [
       "{'role': 'Software Dev Engineer I',\n",
       " 'experience': 'Not specified',\n",
       " 'skills': ['Collaboration with cross-disciplinary teams',\n",
       "  'Designing and building technologies in a large distributed computing environment',\n",
       "  'Creating solutions for distributed systems with exposure to innovative technologies at scale and speed',\n",
       "  'Building distributed storage, index, and query systems that are scalable, fault-tolerant, low cost, and easy to manage/use',\n",
       "  'Designing and coding the right solutions starting with broadly defined problems',\n",
       "  'Working in an agile environment to deliver high-quality software'],\n",
       " 'description': 'At Amazon, we hire the best minds in technology to innovate and build on behalf of our customers. The focus we have on our customers is why we are one of the world’s most beloved brands – customer obsession is part of our company DNA. Our Software Development Engineers (SDEs) use cutting-edge technology to solve complex problems and get to see the impact of their work first-hand. The challenges SDEs solve for at Amazon are big and influence millions of customers, sellers, and products around the world. We are looking for individuals who are passionate about creating new products, features, and services from scratch while managing ambiguity and the pace of a company where development cycles are measured in weeks, not years. If this sounds interesting to you, apply and come chart your own path at Amazon.'}"
      ]
     },
     "execution_count": 6,
     "metadata": {},
     "output_type": "execute_result"
    }
   ],
   "source": [
    "from langchain_core.output_parsers import JsonOutputParser\n",
    "\n",
    "json_parser=JsonOutputParser()\n",
    "json_res=json_parser.parse(res.content)\n",
    "json_res\n",
    "# type(json_res)"
   ]
  },
  {
   "cell_type": "code",
   "execution_count": 7,
   "id": "ffdce082-1d40-4f86-a071-febf2dbebd4e",
   "metadata": {},
   "outputs": [
    {
     "data": {
      "text/html": [
       "<div>\n",
       "<style scoped>\n",
       "    .dataframe tbody tr th:only-of-type {\n",
       "        vertical-align: middle;\n",
       "    }\n",
       "\n",
       "    .dataframe tbody tr th {\n",
       "        vertical-align: top;\n",
       "    }\n",
       "\n",
       "    .dataframe thead th {\n",
       "        text-align: right;\n",
       "    }\n",
       "</style>\n",
       "<table border=\"1\" class=\"dataframe\">\n",
       "  <thead>\n",
       "    <tr style=\"text-align: right;\">\n",
       "      <th></th>\n",
       "      <th>Techstack</th>\n",
       "      <th>Links</th>\n",
       "    </tr>\n",
       "  </thead>\n",
       "  <tbody>\n",
       "    <tr>\n",
       "      <th>0</th>\n",
       "      <td>React, Node.js, MongoDB</td>\n",
       "      <td>https://example.com/react-portfolio</td>\n",
       "    </tr>\n",
       "    <tr>\n",
       "      <th>1</th>\n",
       "      <td>Angular,.NET, SQL Server</td>\n",
       "      <td>https://example.com/angular-portfolio</td>\n",
       "    </tr>\n",
       "    <tr>\n",
       "      <th>2</th>\n",
       "      <td>Vue.js, Ruby on Rails, PostgreSQL</td>\n",
       "      <td>https://example.com/vue-portfolio</td>\n",
       "    </tr>\n",
       "    <tr>\n",
       "      <th>3</th>\n",
       "      <td>Python, Django, MySQL</td>\n",
       "      <td>https://example.com/python-portfolio</td>\n",
       "    </tr>\n",
       "    <tr>\n",
       "      <th>4</th>\n",
       "      <td>Java, Spring Boot, Oracle</td>\n",
       "      <td>https://example.com/java-portfolio</td>\n",
       "    </tr>\n",
       "    <tr>\n",
       "      <th>5</th>\n",
       "      <td>Flutter, Firebase, GraphQL</td>\n",
       "      <td>https://example.com/flutter-portfolio</td>\n",
       "    </tr>\n",
       "    <tr>\n",
       "      <th>6</th>\n",
       "      <td>WordPress, PHP, MySQL</td>\n",
       "      <td>https://example.com/wordpress-portfolio</td>\n",
       "    </tr>\n",
       "    <tr>\n",
       "      <th>7</th>\n",
       "      <td>Magento, PHP, MySQL</td>\n",
       "      <td>https://example.com/magento-portfolio</td>\n",
       "    </tr>\n",
       "    <tr>\n",
       "      <th>8</th>\n",
       "      <td>React Native, Node.js, MongoDB</td>\n",
       "      <td>https://example.com/react-native-portfolio</td>\n",
       "    </tr>\n",
       "    <tr>\n",
       "      <th>9</th>\n",
       "      <td>iOS, Swift, Core Data</td>\n",
       "      <td>https://example.com/ios-portfolio</td>\n",
       "    </tr>\n",
       "    <tr>\n",
       "      <th>10</th>\n",
       "      <td>Android, Java, Room Persistence</td>\n",
       "      <td>https://example.com/android-portfolio</td>\n",
       "    </tr>\n",
       "    <tr>\n",
       "      <th>11</th>\n",
       "      <td>Kotlin, Android, Firebase</td>\n",
       "      <td>https://example.com/kotlin-android-portfolio</td>\n",
       "    </tr>\n",
       "    <tr>\n",
       "      <th>12</th>\n",
       "      <td>Android TV, Kotlin, Android NDK</td>\n",
       "      <td>https://example.com/android-tv-portfolio</td>\n",
       "    </tr>\n",
       "    <tr>\n",
       "      <th>13</th>\n",
       "      <td>iOS, Swift, ARKit</td>\n",
       "      <td>https://example.com/ios-ar-portfolio</td>\n",
       "    </tr>\n",
       "    <tr>\n",
       "      <th>14</th>\n",
       "      <td>Cross-platform, Xamarin, Azure</td>\n",
       "      <td>https://example.com/xamarin-portfolio</td>\n",
       "    </tr>\n",
       "    <tr>\n",
       "      <th>15</th>\n",
       "      <td>Backend, Kotlin, Spring Boot</td>\n",
       "      <td>https://example.com/kotlin-backend-portfolio</td>\n",
       "    </tr>\n",
       "    <tr>\n",
       "      <th>16</th>\n",
       "      <td>Frontend, TypeScript, Angular</td>\n",
       "      <td>https://example.com/typescript-frontend-portfolio</td>\n",
       "    </tr>\n",
       "    <tr>\n",
       "      <th>17</th>\n",
       "      <td>Full-stack, JavaScript, Express.js</td>\n",
       "      <td>https://example.com/full-stack-js-portfolio</td>\n",
       "    </tr>\n",
       "    <tr>\n",
       "      <th>18</th>\n",
       "      <td>Machine Learning, Python, TensorFlow</td>\n",
       "      <td>https://example.com/ml-python-portfolio</td>\n",
       "    </tr>\n",
       "    <tr>\n",
       "      <th>19</th>\n",
       "      <td>DevOps, Jenkins, Docker</td>\n",
       "      <td>https://example.com/devops-portfolio</td>\n",
       "    </tr>\n",
       "  </tbody>\n",
       "</table>\n",
       "</div>"
      ],
      "text/plain": [
       "                               Techstack  \\\n",
       "0                React, Node.js, MongoDB   \n",
       "1               Angular,.NET, SQL Server   \n",
       "2      Vue.js, Ruby on Rails, PostgreSQL   \n",
       "3                  Python, Django, MySQL   \n",
       "4              Java, Spring Boot, Oracle   \n",
       "5             Flutter, Firebase, GraphQL   \n",
       "6                  WordPress, PHP, MySQL   \n",
       "7                    Magento, PHP, MySQL   \n",
       "8         React Native, Node.js, MongoDB   \n",
       "9                  iOS, Swift, Core Data   \n",
       "10       Android, Java, Room Persistence   \n",
       "11             Kotlin, Android, Firebase   \n",
       "12       Android TV, Kotlin, Android NDK   \n",
       "13                     iOS, Swift, ARKit   \n",
       "14        Cross-platform, Xamarin, Azure   \n",
       "15          Backend, Kotlin, Spring Boot   \n",
       "16         Frontend, TypeScript, Angular   \n",
       "17    Full-stack, JavaScript, Express.js   \n",
       "18  Machine Learning, Python, TensorFlow   \n",
       "19               DevOps, Jenkins, Docker   \n",
       "\n",
       "                                                Links  \n",
       "0                 https://example.com/react-portfolio  \n",
       "1               https://example.com/angular-portfolio  \n",
       "2                   https://example.com/vue-portfolio  \n",
       "3                https://example.com/python-portfolio  \n",
       "4                  https://example.com/java-portfolio  \n",
       "5               https://example.com/flutter-portfolio  \n",
       "6             https://example.com/wordpress-portfolio  \n",
       "7               https://example.com/magento-portfolio  \n",
       "8          https://example.com/react-native-portfolio  \n",
       "9                   https://example.com/ios-portfolio  \n",
       "10              https://example.com/android-portfolio  \n",
       "11       https://example.com/kotlin-android-portfolio  \n",
       "12           https://example.com/android-tv-portfolio  \n",
       "13               https://example.com/ios-ar-portfolio  \n",
       "14              https://example.com/xamarin-portfolio  \n",
       "15       https://example.com/kotlin-backend-portfolio  \n",
       "16  https://example.com/typescript-frontend-portfolio  \n",
       "17        https://example.com/full-stack-js-portfolio  \n",
       "18            https://example.com/ml-python-portfolio  \n",
       "19               https://example.com/devops-portfolio  "
      ]
     },
     "execution_count": 7,
     "metadata": {},
     "output_type": "execute_result"
    }
   ],
   "source": [
    "import pandas as pd\n",
    "df=pd.read_csv(\"my_portfolio.csv\")\n",
    "df"
   ]
  },
  {
   "cell_type": "code",
   "execution_count": 11,
   "id": "c4aba778-7787-446c-b9d4-51eb2e86720a",
   "metadata": {},
   "outputs": [],
   "source": [
    "import chromadb\n",
    "import uuid\n",
    "\n",
    "client=chromadb.PersistentClient('vectorstore')\n",
    "collection=client.get_or_create_collection(name=\"portfolio\")\n",
    "\n",
    "if not collection.count():\n",
    "    for _,row in df.iterrows():\n",
    "        collection.add(documents=row[\"Techstack\"],\n",
    "                       metadatas={\"links\":row[\"Links\"]},\n",
    "                       ids=[str(uuid.uuid4())])\n",
    "        \n",
    "    "
   ]
  },
  {
   "cell_type": "code",
   "execution_count": 18,
   "id": "88deaffa-5502-4574-ab93-bf330f52652f",
   "metadata": {},
   "outputs": [
    {
     "data": {
      "text/plain": [
       "[[{'links': 'https://example.com/devops-portfolio'},\n",
       "  {'links': 'https://example.com/xamarin-portfolio'}],\n",
       " [{'links': 'https://example.com/android-portfolio'},\n",
       "  {'links': 'https://example.com/devops-portfolio'}],\n",
       " [{'links': 'https://example.com/devops-portfolio'},\n",
       "  {'links': 'https://example.com/xamarin-portfolio'}],\n",
       " [{'links': 'https://example.com/flutter-portfolio'},\n",
       "  {'links': 'https://example.com/magento-portfolio'}],\n",
       " [{'links': 'https://example.com/full-stack-js-portfolio'},\n",
       "  {'links': 'https://example.com/ml-python-portfolio'}],\n",
       " [{'links': 'https://example.com/devops-portfolio'},\n",
       "  {'links': 'https://example.com/ios-ar-portfolio'}]]"
      ]
     },
     "execution_count": 18,
     "metadata": {},
     "output_type": "execute_result"
    }
   ],
   "source": [
    "links = collection.query(query_texts=job['skills'], n_results=2).get('metadatas', [])\n",
    "links"
   ]
  },
  {
   "cell_type": "code",
   "execution_count": 17,
   "id": "c702bb12-e741-4e8d-bb59-39fb46ef55b0",
   "metadata": {},
   "outputs": [
    {
     "data": {
      "text/plain": [
       "['Collaboration with cross-disciplinary teams',\n",
       " 'Designing and building technologies in a large distributed computing environment',\n",
       " 'Creating solutions for distributed systems with exposure to innovative technologies at scale and speed',\n",
       " 'Building distributed storage, index, and query systems that are scalable, fault-tolerant, low cost, and easy to manage/use',\n",
       " 'Designing and coding the right solutions starting with broadly defined problems',\n",
       " 'Working in an agile environment to deliver high-quality software']"
      ]
     },
     "execution_count": 17,
     "metadata": {},
     "output_type": "execute_result"
    }
   ],
   "source": [
    "job=json_res\n",
    "job['skills']"
   ]
  },
  {
   "cell_type": "code",
   "execution_count": 23,
   "id": "3a1f03ea-ae03-4108-bc50-4c6e18bd8457",
   "metadata": {},
   "outputs": [
    {
     "name": "stdout",
     "output_type": "stream",
     "text": [
      "Subject: Application for Software Dev Engineer I Position\n",
      "\n",
      "Dear Hiring Manager,\n",
      "\n",
      "I am writing to express my interest in the Software Dev Engineer I position at Amazon, as advertised. As a fourth-year B.Tech student at Jadavpur University with a past internship experience at Bank of New York, where I worked in the backend team, I am confident that I possess the skills and experience necessary to excel in this role.\n",
      "\n",
      "The job description mentions the need for skills such as collaboration with cross-disciplinary teams, designing and building technologies in a large distributed computing environment, and building distributed storage, index, and query systems. I have developed these skills through my past experience and academic projects.\n",
      "\n",
      "I have a portfolio of work that demonstrates my proficiency in DevOps, which I believe is highly relevant to this role. You can view my portfolio at <https://example.com/devops-portfolio>. Additionally, I have experience working with backend technologies such as Android and Xamarin, which I believe would be beneficial for this role. You can view my portfolio for these technologies at <https://example.com/android-portfolio> and <https://example.com/xamarin-portfolio>.\n",
      "\n",
      "I am excited about the opportunity to work at Amazon and contribute to the company's mission of customer obsession. I am confident that my skills and experience make me a strong candidate for this role.\n",
      "\n",
      "Thank you for considering my application. I look forward to the opportunity to discuss my qualifications further.\n",
      "\n",
      "Sincerely,\n",
      "Yash Agarwal\n"
     ]
    }
   ],
   "source": [
    "prompt_email=PromptTemplate.from_template(\n",
    "    \"\"\"\n",
    "    ###JOB DESCRIPTION\n",
    "    {job_description}\n",
    "\n",
    "    ### INSTRUCTION\n",
    "    You are Yash Agarwal,a fresher software Engineer currently in 4th year of btech at jadavpur University\n",
    "    I have a past experience of interning at Bank of new York  where i worked in backend team \n",
    "    Your job is to write a cold email to the HR regarding the job mentioned above fullfilling their needs\n",
    "    Also add the most relevant ones from the following link to showcase skills {link_list}\n",
    "    Do not provide a preamble \n",
    "    ###Email (no preamble)\n",
    "    \"\"\"\n",
    ")\n",
    "\n",
    "chain_email=prompt_email | llm\n",
    "res=chain_email.invoke({\"job_description\":str(job),\"link_list\":links})\n",
    "print(res.content)"
   ]
  },
  {
   "cell_type": "code",
   "execution_count": null,
   "id": "feeb5605-a171-4979-97c4-fd0d93e72ec5",
   "metadata": {},
   "outputs": [],
   "source": []
  }
 ],
 "metadata": {
  "kernelspec": {
   "display_name": "Python 3 (ipykernel)",
   "language": "python",
   "name": "python3"
  },
  "language_info": {
   "codemirror_mode": {
    "name": "ipython",
    "version": 3
   },
   "file_extension": ".py",
   "mimetype": "text/x-python",
   "name": "python",
   "nbconvert_exporter": "python",
   "pygments_lexer": "ipython3",
   "version": "3.12.1"
  }
 },
 "nbformat": 4,
 "nbformat_minor": 5
}
