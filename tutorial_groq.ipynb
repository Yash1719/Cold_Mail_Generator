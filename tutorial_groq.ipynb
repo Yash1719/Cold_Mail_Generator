{
 "cells": [
  {
   "cell_type": "code",
   "execution_count": 17,
   "id": "8d46e0cb-7bc8-41f6-8a46-6c2d347b36b9",
   "metadata": {},
   "outputs": [
    {
     "name": "stdout",
     "output_type": "stream",
     "text": [
      "As of my knowledge up to October 2021, the current Prime Minister of India is Narendra Modi. He has been in office since May 2014. However, I recommend checking the most recent and reliable sources to confirm, as political situations can change rapidly.\n"
     ]
    }
   ],
   "source": [
    "#chatgroq \n",
    "from langchain_groq import ChatGroq\n",
    "llm=ChatGroq(\n",
    "    temperature=0,\n",
    "    model_name=\"mixtral-8x7b-32768\",\n",
    "    groq_api_key='<api_key>'\n",
    ")\n",
    "response=llm.invoke(\"who is the current pm of india\")\n",
    "print(response.content)"
   ]
  },
  {
   "cell_type": "code",
   "execution_count": 14,
   "id": "8f3be817-987d-44bd-8b2c-58c028dc0c86",
   "metadata": {},
   "outputs": [
    {
     "name": "stdout",
     "output_type": "stream",
     "text": [
      "Software Dev Engineer I, Amazon University Talent Acquisition - Job ID: 2816887 | Amazon.jobs\n",
      "Skip to main contentHomeTeamsLocationsJob categoriesYour job applicationResourcesDisability accommodationsBenefitsInclusive experiencesInterview tipsLeadership principlesWorking at AmazonFAQ×Software Dev Engineer I, Amazon University Talent AcquisitionJob ID: 2816887 | ADCI - KarnatakaApply nowDESCRIPTIONAt Amazon, we hire the best minds in technology to innovate and build on behalf of our customers. The focus we have on our customers is why we are one of the world’s most beloved brands – customer obsession is part of our company DNA. Our Software Development Engineers (SDEs) use cutting-edge technology to solve complex problems and get to see the impact of their work first-hand. The challenges SDEs solve for at Amazon are big and influence millions of customers, sellers, and products around the world. We are looking for individuals who are passionate about creating new products, features, and services from scratch while managing ambiguity and the pace of a company where development cycles are measured in weeks, not years. If this sounds interesting to you, apply and come chart your own path at Amazon.Applications are reviewed on a rolling basis. For an update on your status, or to confirm your application was submitted successfully, please login to your candidate portal. NOTE: Amazon works with a high volume of applicants, so we appreciate your patience as we review applicationsKey job responsibilities• Collaborate with experienced cross-disciplinary Amazonians to conceive, design, and bring innovative products and services to market.• Design and build innovative technologies in a large distributed computing environment and help lead fundamental changes in the industry.• Create solutions to run predictions on distributed systems with exposure to innovative technologies at incredible scale and speed.• Build distributed storage, index, and query systems that are scalable, fault-tolerant, low cost, and easy to manage/use.• Design and code the right solutions starting with broadly defined problems.• Work in an agile environment to deliver high-quality software.BASIC QUALIFICATIONS- Bachelor's degree or above in computer science, computer engineering, or related fieldPREFERRED QUALIFICATIONS- Bachelor's degree or equivalentJob detailsIND, HyderabadIND, ChennaiIND, KA, BangaloreIND, DelhiIND, PuneAdministrative Support JOIN US ONFind CareersJob CategoriesTeamsLocationsUS and EU Military recruitingWarehouse and Hourly JobsWorking At AmazonCultureBenefitsAmazon NewsletterDiversity at AmazonOur leadership principlesHelpFAQInterview tipsReview application statusDisability accommodationsEU background checksAmazon is committed to a diverse and inclusive workplace. Amazon is an equal opportunity employer and does not discriminate on the basis of race, national origin, gender, gender identity, sexual orientation, protected veteran status, disability, age, or other legally protected status.Privacy and DataImpressum© 1996-2025, Amazon.com, Inc. or its affiliates\n"
     ]
    }
   ],
   "source": [
    "from langchain_community.document_loaders import WebBaseLoader\n",
    "\n",
    "loader=WebBaseLoader(\"https://amazon.jobs/en/jobs/2816887/software-dev-engineer-i-amazon-university-talent-acquisition\")\n",
    "page_data=loader.load().pop().page_content\n",
    "print(page_data)\n"
   ]
  },
  {
   "cell_type": "code",
   "execution_count": 15,
   "id": "3cffbc3f-0340-45b8-ab15-d50ab20f55bd",
   "metadata": {},
   "outputs": [
    {
     "name": "stdout",
     "output_type": "stream",
     "text": [
      "{\n",
      "  \"role\": \"Software Dev Engineer I\",\n",
      "  \"experience\": \"Not specified\",\n",
      "  \"skills\": [\n",
      "    \"Collaboration with cross-disciplinary teams\",\n",
      "    \"Designing and building technologies in a large distributed computing environment\",\n",
      "    \"Creating solutions for distributed systems with exposure to innovative technologies at scale and speed\",\n",
      "    \"Building distributed storage, index, and query systems that are scalable, fault-tolerant, low cost, and easy to manage/use\",\n",
      "    \"Designing and coding the right solutions starting with broadly defined problems\",\n",
      "    \"Working in an agile environment to deliver high-quality software\"\n",
      "  ],\n",
      "  \"description\": \"At Amazon, we hire the best minds in technology to innovate and build on behalf of our customers. The focus we have on our customers is why we are one of the world’s most beloved brands – customer obsession is part of our company DNA. Our Software Development Engineers (SDEs) use cutting-edge technology to solve complex problems and get to see the impact of their work first-hand. The challenges SDEs solve for at Amazon are big and influence millions of customers, sellers, and products around the world. We are looking for individuals who are passionate about creating new products, features, and services from scratch while managing ambiguity and the pace of a company where development cycles are measured in weeks, not years. If this sounds interesting to you, apply and come chart your own path at Amazon.\"\n",
      "}\n"
     ]
    }
   ],
   "source": [
    "from langchain_core.prompts import PromptTemplate\n",
    "\n",
    "prompt_extract=PromptTemplate.from_template(\n",
    "    \"\"\"\n",
    "    ### SCRAPED TEXT FROM WEBSITE\n",
    "    {page_data}\n",
    "    ### INSTRUCTION\n",
    "    The scrapped text is from the career's page of a website.\n",
    "    Your job is to extract the job posting and return them in JSON format containing \n",
    "    following keys:'role','experience','skills' and 'description'.\n",
    "    Only return the Valid JSON\n",
    "    ### VALID JSON (NO PREAMBLE)\n",
    "    \"\"\"\n",
    "    \n",
    ")\n",
    "chain_extract=prompt_extract |  llm\n",
    "res=chain_extract.invoke(input={'page_data':page_data})\n",
    "print(res.content)\n"
   ]
  },
  {
   "cell_type": "code",
   "execution_count": 20,
   "id": "d11f791f-6d07-473a-b2f2-d2db20079f6b",
   "metadata": {},
   "outputs": [
    {
     "data": {
      "text/plain": [
       "dict"
      ]
     },
     "execution_count": 20,
     "metadata": {},
     "output_type": "execute_result"
    }
   ],
   "source": [
    "from langchain_core.output_parsers import JsonOutputParser\n",
    "\n",
    "json_parser=JsonOutputParser()\n",
    "json_res=json_parser.parse(res.content)\n",
    "json_res\n",
    "type(json_res)"
   ]
  },
  {
   "cell_type": "code",
   "execution_count": null,
   "id": "e6c19c16-f48d-4b5e-8618-a008baedd5fc",
   "metadata": {},
   "outputs": [],
   "source": []
  }
 ],
 "metadata": {
  "kernelspec": {
   "display_name": "Python 3 (ipykernel)",
   "language": "python",
   "name": "python3"
  },
  "language_info": {
   "codemirror_mode": {
    "name": "ipython",
    "version": 3
   },
   "file_extension": ".py",
   "mimetype": "text/x-python",
   "name": "python",
   "nbconvert_exporter": "python",
   "pygments_lexer": "ipython3",
   "version": "3.12.1"
  }
 },
 "nbformat": 4,
 "nbformat_minor": 5
}
